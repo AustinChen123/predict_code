{
 "cells": [
  {
   "cell_type": "code",
   "execution_count": 21,
   "metadata": {},
   "outputs": [],
   "source": [
    "def CC_data():\n",
    "    import pandas as pd \n",
    "    import numpy as np\n",
    "    #信用卡時間序列\n",
    "    cc_apply = pd.read_csv(\"C:/Users/user/Desktop/competition/TBN_CC_APPLY.csv\")\n",
    "    credit_c = cc_apply.copy()\n",
    "    credit_c[\"CC_IND\"] = 1\n",
    "    credit_c.columns = [\"CUST_NO\",\"TXN_DT_CC\",\"CC_IND\"]\n",
    "    credit_c[\"month\"] = \"0\"\n",
    "    months = [\"M1\",\"M2\",\"M3\",\"M4\"]\n",
    "    date = [9447,9447+31,9447+61,9447+91,9568]\n",
    "    credit_c[\"month\"] = pd.cut(credit_c['TXN_DT_CC'],date,right = False,labels=months)\n",
    "\n",
    "    credit_long = credit_c[[\"CUST_NO\",\"month\",\"CC_IND\"]].groupby([\"CUST_NO\",\"month\"]).count()\n",
    "\n",
    "    credit_pivot = credit_long.pivot_table(values = \"CC_IND\",index = \"CUST_NO\",columns = \"month\",aggfunc = 'sum')\n",
    "\n",
    "    CC_copy = credit_pivot.copy()\n",
    "    CC_copy.columns = [\"CC_IND_M1\",\"CC_IND_M2\",\"CC_IND_M3\",\"CC_IND_M4\"]\n",
    "    CC_M1 = CC_copy.iloc[:,0].reset_index()\n",
    "    CC_M2 = CC_copy.iloc[:,1].reset_index()\n",
    "    CC_M3 = CC_copy.iloc[:,2].reset_index()\n",
    "    CC_M4 = CC_copy.iloc[:,3].reset_index()\n",
    "    return CC_M1,CC_M2,CC_M3,CC_M4"
   ]
  }
 ],
 "metadata": {
  "kernelspec": {
   "display_name": "Python 3",
   "language": "python",
   "name": "python3"
  },
  "language_info": {
   "codemirror_mode": {
    "name": "ipython",
    "version": 3
   },
   "file_extension": ".py",
   "mimetype": "text/x-python",
   "name": "python",
   "nbconvert_exporter": "python",
   "pygments_lexer": "ipython3",
   "version": "3.6.8"
  }
 },
 "nbformat": 4,
 "nbformat_minor": 2
}
