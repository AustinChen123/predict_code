{
 "cells": [
  {
   "cell_type": "code",
   "execution_count": 1,
   "metadata": {},
   "outputs": [],
   "source": [
    "\n",
    "import pandas as pd\n",
    "import numpy as np\n",
    "WM_trade = pd.read_csv(\"C:/Users/user/Desktop/competition/TBN_WM_TXN.csv\")\n",
    "# 用最後一次的risk code\n",
    "\n",
    "WM = WM_trade.copy()\n",
    "WM[\"WM_IND\"] = 1\n",
    "WM.columns = [\"CUST_NO\",\"TXN_DT_WM\",'CUST_RISK_CODE','INVEST_TYPE_CODE','WM_TXN_AMT',\"WM_IND\"]\n",
    "WM[\"month\"] = \"0\"\n",
    "months = [\"M1\",\"M2\",\"M3\",\"M4\"]\n",
    "date = [9447,9447+31,9447+61,9447+91,9568]\n",
    "WM[\"month\"] = pd.cut(WM['TXN_DT_WM'],date,right = False,labels=months)\n",
    "\n",
    "\n",
    "WM_M1 = WM[WM[\"month\"]==\"M1\"]\n",
    "WM_M2 = WM[WM[\"month\"]==\"M2\"]\n",
    "WM_M3 = WM[WM[\"month\"]==\"M3\"]\n",
    "WM_M4 = WM[WM[\"month\"]==\"M4\"]\n",
    "\n",
    "invest_record_M1 = WM_M1.sort_values(by='TXN_DT_WM').drop_duplicates(\"CUST_NO\",keep = \"last\")[[\"CUST_NO\",'CUST_RISK_CODE','INVEST_TYPE_CODE',\"WM_IND\"]]\n",
    "invest_record_M2 = WM_M2.sort_values(by='TXN_DT_WM').drop_duplicates(\"CUST_NO\",keep = \"last\")[[\"CUST_NO\",'CUST_RISK_CODE','INVEST_TYPE_CODE',\"WM_IND\"]]\n",
    "invest_record_M3 = WM_M3.sort_values(by='TXN_DT_WM').drop_duplicates(\"CUST_NO\",keep = \"last\")[[\"CUST_NO\",'CUST_RISK_CODE','INVEST_TYPE_CODE',\"WM_IND\"]]\n",
    "invest_record_M4 = WM_M4.sort_values(by='TXN_DT_WM').drop_duplicates(\"CUST_NO\",keep = \"last\")[[\"CUST_NO\",'CUST_RISK_CODE','INVEST_TYPE_CODE',\"WM_IND\"]]\n",
    "\n",
    "AMT_M1 = WM_M1[[\"CUST_NO\",\"WM_TXN_AMT\"]].groupby(\"CUST_NO\").sum()\n",
    "AMT_M2 = WM_M2[[\"CUST_NO\",\"WM_TXN_AMT\"]].groupby(\"CUST_NO\").sum()\n",
    "AMT_M3 = WM_M3[[\"CUST_NO\",\"WM_TXN_AMT\"]].groupby(\"CUST_NO\").sum()\n",
    "AMT_M4 = WM_M4[[\"CUST_NO\",\"WM_TXN_AMT\"]].groupby(\"CUST_NO\").sum()\n",
    "\n",
    "#total_M1\n",
    "total_M1 = pd.merge(invest_record_M1,AMT_M1,left_on = \"CUST_NO\",right_on = \"CUST_NO\",how = \"inner\")\n",
    "total_M2 = pd.merge(invest_record_M2,AMT_M2,left_on = \"CUST_NO\",right_on = \"CUST_NO\",how = \"inner\")\n",
    "total_M3 = pd.merge(invest_record_M3,AMT_M3,left_on = \"CUST_NO\",right_on = \"CUST_NO\",how = \"inner\")\n",
    "total_M4 = pd.merge(invest_record_M4,AMT_M4,left_on = \"CUST_NO\",right_on = \"CUST_NO\",how = \"inner\")\n",
    "#為了機器學習擁有相同變數 在此設置相同名稱\n",
    "total_M1.columns = [\"CUST_NO\",\"CUST_RISK_CODE_M1\",\"INVEST_TYPE_CODE_M1\",\"WM_IND_M1\",\"WM_TXN_AMT_M1\"]\n",
    "total_M2.columns = [\"CUST_NO\",\"CUST_RISK_CODE_M2\",\"INVEST_TYPE_CODE_M2\",\"WM_IND_M2\",\"WM_TXN_AMT_M2\"]\n",
    "total_M3.columns = [\"CUST_NO\",\"CUST_RISK_CODE_M1\",\"INVEST_TYPE_CODE_M1\",\"WM_IND_M1\",\"WM_TXN_AMT_M1\"]\n",
    "total_M4.columns = [\"CUST_NO\",\"CUST_RISK_CODE_M2\",\"INVEST_TYPE_CODE_M2\",\"WM_IND_M2\",\"WM_TXN_AMT_M2\"]\n"
   ]
  }
 ],
 "metadata": {
  "kernelspec": {
   "display_name": "Python 3",
   "language": "python",
   "name": "python3"
  },
  "language_info": {
   "codemirror_mode": {
    "name": "ipython",
    "version": 3
   },
   "file_extension": ".py",
   "mimetype": "text/x-python",
   "name": "python",
   "nbconvert_exporter": "python",
   "pygments_lexer": "ipython3",
   "version": "3.6.8"
  }
 },
 "nbformat": 4,
 "nbformat_minor": 2
}
